{
  "nbformat": 4,
  "nbformat_minor": 0,
  "metadata": {
    "colab": {
      "provenance": [],
      "authorship_tag": "ABX9TyNHVfr4ocAoZnfeBITJ/uke",
      "include_colab_link": true
    },
    "kernelspec": {
      "name": "python3",
      "display_name": "Python 3"
    },
    "language_info": {
      "name": "python"
    }
  },
  "cells": [
    {
      "cell_type": "markdown",
      "metadata": {
        "id": "view-in-github",
        "colab_type": "text"
      },
      "source": [
        "<a href=\"https://colab.research.google.com/github/lhaven-dev/TP_DATA/blob/main/TP1.ipynb\" target=\"_parent\"><img src=\"https://colab.research.google.com/assets/colab-badge.svg\" alt=\"Open In Colab\"/></a>"
      ]
    },
    {
      "cell_type": "code",
      "execution_count": null,
      "metadata": {
        "id": "EtX6d1I8EQrE"
      },
      "outputs": [],
      "source": [
        "from pyspark.sql import SparkSession\n",
        "from pyspark.sql.functions import col, split, explode, avg\n",
        "\n",
        "# Créer une session Spark\n",
        "spark = SparkSession.builder.appName(\"PySpark TP 1\").getOrCreate()\n"
      ]
    },
    {
      "cell_type": "code",
      "source": [
        "# Charger le fichier CSV dans un DataFrame Spark\n",
        "file_path = \"/content/Rotten Tomatoes Movies.csv\"\n",
        "df = spark.read.csv(file_path, header=True, inferSchema=True)"
      ],
      "metadata": {
        "id": "61HL9bMwEbbP"
      },
      "execution_count": null,
      "outputs": []
    },
    {
      "cell_type": "code",
      "source": [
        "# Supprimer les lignes avec des valeurs nulles\n",
        "df_cleaned = df.dropna()\n",
        "# Convertir les dates\n",
        "df_cleaned = df_cleaned.withColumn(\"in_theaters_date\", col(\"in_theaters_date\").cast(\"date\"))\n"
      ],
      "metadata": {
        "id": "Bhf4Q3fzEe2g"
      },
      "execution_count": null,
      "outputs": []
    },
    {
      "cell_type": "code",
      "source": [
        "# Filtrer les valeurs de tomatometer_rating pour ne conserver que les nombres\n",
        "df_filtered = df_cleaned.filter(col(\"tomatometer_rating\").rlike(\"^[0-9]+$\"))\n",
        "# Filtrer les valeurs de runtime_in_minutes pour ne conserver que les nombres\n",
        "df_filtered = df_cleaned.filter(col(\"runtime_in_minutes\").rlike(\"^[0-9]+$\"))"
      ],
      "metadata": {
        "id": "utjAwftYHkbr"
      },
      "execution_count": null,
      "outputs": []
    },
    {
      "cell_type": "code",
      "source": [
        "# Filtrer les films avec une note tomatometer inférieure à 20\n",
        "low_rated_movies = df_filtered.filter(col(\"tomatometer_rating\") < 20)"
      ],
      "metadata": {
        "id": "9sTraka8F_41"
      },
      "execution_count": null,
      "outputs": []
    },
    {
      "cell_type": "code",
      "source": [
        "# Filtrer les films sortis après 2000\n",
        "movies_after_2000 = df_filtered.filter(year(col(\"in_theaters_date\")) > 2000)"
      ],
      "metadata": {
        "id": "RGq3U8b-GeuQ"
      },
      "execution_count": null,
      "outputs": []
    },
    {
      "cell_type": "code",
      "source": [
        "# Calculer la note moyenne des films par studio\n",
        "average_rating_by_studio = df_filtered.groupBy(\"studio_name\").agg(avg(\"tomatometer_rating\").alias(\"average_rating\"))"
      ],
      "metadata": {
        "id": "BrWZ8RsvG9ry"
      },
      "execution_count": null,
      "outputs": []
    },
    {
      "cell_type": "code",
      "source": [
        "# Calculer la note moyenne des films par directeur\n",
        "average_rating_by_director = df_filtered.groupBy(\"directors\").agg(avg(\"tomatometer_rating\").alias(\"average_rating\"))"
      ],
      "metadata": {
        "id": "TqQwPVA2IC0r"
      },
      "execution_count": null,
      "outputs": []
    },
    {
      "cell_type": "code",
      "source": [
        "# Explode the 'genres' column\n",
        "df_exploded = df_filtered.withColumn(\"genre\", explode(split(col(\"genre\"), \", \")))"
      ],
      "metadata": {
        "id": "B4OFojuYIXkm"
      },
      "execution_count": null,
      "outputs": []
    },
    {
      "cell_type": "code",
      "source": [
        "# Calculer la durée moyenne des films pour chaque genre\n",
        "average_runtime_by_genre = df_exploded.groupBy(\"genre\").agg(avg(\"runtime_in_minutes\").alias(\"average_runtime\"))\n",
        "\n",
        "average_runtime_by_genre.show()"
      ],
      "metadata": {
        "colab": {
          "base_uri": "https://localhost:8080/"
        },
        "id": "O6WtcYLIJEEx",
        "outputId": "ffc0763f-ddbd-462b-db07-654ef9885be7"
      },
      "execution_count": null,
      "outputs": [
        {
          "output_type": "stream",
          "name": "stdout",
          "text": [
            "+--------------------+------------------+\n",
            "|               genre|   average_runtime|\n",
            "+--------------------+------------------+\n",
            "|  Action & Adventure|109.54932912391476|\n",
            "|             Romance|108.59334298118668|\n",
            "|    Sports & Fitness|104.89189189189189|\n",
            "|               Drama|109.51838456901748|\n",
            "|         Documentary|             96.56|\n",
            "|Art House & Inter...|107.61720698254364|\n",
            "|       Kids & Family| 95.38277511961722|\n",
            "|Science Fiction &...|107.42329545454545|\n",
            "|            Classics|115.87012987012987|\n",
            "|Musical & Perform...|105.33516483516483|\n",
            "|Faith & Spirituality|           111.375|\n",
            "|           Animation| 89.21940928270043|\n",
            "|       Anime & Manga|             100.0|\n",
            "|    Special Interest| 98.75935828877006|\n",
            "|  Mystery & Suspense|  106.714058776807|\n",
            "|          Television| 99.74285714285715|\n",
            "|              Horror| 98.98755832037325|\n",
            "|             Western|115.18333333333334|\n",
            "|              Comedy|100.50392875851232|\n",
            "|       Gay & Lesbian| 99.71428571428571|\n",
            "+--------------------+------------------+\n",
            "only showing top 20 rows\n",
            "\n"
          ]
        }
      ]
    }
  ]
}